{
 "cells": [
  {
   "cell_type": "code",
   "execution_count": 10,
   "id": "faf6d99e",
   "metadata": {},
   "outputs": [],
   "source": [
    "# Necessary imports\n",
    "import pandas as pd\n",
    "import numpy as np\n",
    "import pickle\n",
    "\n",
    "from tqdm import notebook\n",
    "\n",
    "import sys\n",
    "PATH = r\"\"\"C:\\Users\\andrew.tan\\Jupyter Notebooks\\Geocoding_Validation\\\\\"\"\"\n",
    "sys.path.insert(0, PATH)\n",
    "\n",
    "from gc_val import GC_Val\n",
    "\n",
    "val = GC_Val(PATH + \"data.csv\", PATH + \"neighborhoods.pkl\")\n",
    "false_responses = []\n",
    "with open(PATH + \"false_responses2.pkl\", \"rb\") as f:\n",
    "    false_responses = pickle.load(f)\n",
    "    f.close()"
   ]
  },
  {
   "cell_type": "code",
   "execution_count": 2,
   "id": "a243624d",
   "metadata": {},
   "outputs": [
    {
     "data": {
      "application/vnd.jupyter.widget-view+json": {
       "model_id": "59648ee66ac94c3f8f0905e5c0dfaa14",
       "version_major": 2,
       "version_minor": 0
      },
      "text/plain": [
       "  0%|          | 0/99993 [00:00<?, ?it/s]"
      ]
     },
     "metadata": {},
     "output_type": "display_data"
    }
   ],
   "source": [
    "# Retrieve the desired features from data\n",
    "X = pd.DataFrame(columns=['index', 'ratio', 'calculation_method', 'confidence', 'match_codes', 'expected'])\n",
    "y = pd.DataFrame(columns=['validity'])\n",
    "\n",
    "for i in notebook.tqdm(range(len(val.df))):\n",
    "    # Ratio\n",
    "    try:\n",
    "        ratio = val.get_ratio(i)\n",
    "    except KeyError as e:\n",
    "        ratio = 0\n",
    "    \n",
    "    # Calculation_method\n",
    "    # ['Rooftop', 'InterpolationOffset', 'Interpolation'] = [0, 1, 2]\n",
    "    method = val.get_calculation_method(i)\n",
    "    if method == 'Rooftop': method = 0\n",
    "    elif method == 'InterpolationOffset': method = 1\n",
    "    elif method == 'Interpolation': method = 2\n",
    "    else: method = None\n",
    "    \n",
    "    # Confidence\n",
    "    # ['High', 'Medium', 'Low'] = [0, 1, 2]\n",
    "    conf = val.get_confidence(i)\n",
    "    if conf == 'High': conf = 0\n",
    "    elif conf == 'Medium': conf = 1\n",
    "    elif conf == 'Low': conf = 2\n",
    "    else: conf = None\n",
    "    \n",
    "    # Match_codes\n",
    "    # [['UpHierarchy'], ['Ambiguous', 'UpHierarchy'], ['Good'], ['Ambiguous']]= [0, 1, 2, 3]\n",
    "    code = str(val.get_match_codes(i))\n",
    "    if code == \"['UpHierarchy']\": code = 0\n",
    "    elif code == \"['Ambiguous', 'UpHierarchy']\": code = 1\n",
    "    elif code == \"['Good']\": code = 2\n",
    "    elif code == \"['Ambiguous']\": code = 3\n",
    "    else: code = None\n",
    "    \n",
    "    expected = -1\n",
    "    if i in false_responses:  # 0 for valid and 1 for false entries\n",
    "        expected = 1\n",
    "    else:\n",
    "        expected = 0\n",
    "        \n",
    "    insert = [i, ratio, method, conf, code, expected]\n",
    "    X.loc[i] = insert\n",
    "    \n",
    "    \n",
    "    "
   ]
  },
  {
   "cell_type": "code",
   "execution_count": 12,
   "id": "8e8411ad",
   "metadata": {},
   "outputs": [],
   "source": [
    "false_indexes = [i[0] for i in false_responses]\n",
    "len(false_indexes)\n",
    "for i in range(len(val.df)):\n",
    "    if i in false_indexes:\n",
    "        X['expected'].iloc[i] = 1"
   ]
  },
  {
   "cell_type": "code",
   "execution_count": 16,
   "id": "36213fe4",
   "metadata": {},
   "outputs": [],
   "source": [
    "# Add in the geocoord distance as a feature\n",
    "distances = pickle.load(open(\"distances.pkl\", \"rb\"))\n",
    "X['distances'] = distances"
   ]
  },
  {
   "cell_type": "code",
   "execution_count": 20,
   "id": "7ce59ae9",
   "metadata": {},
   "outputs": [],
   "source": [
    "# Save the training data into a pkl file\n",
    "file = open(\"formatted_data.pkl\", \"wb\")\n",
    "pickle.dump(X, file)\n",
    "file.close()"
   ]
  },
  {
   "cell_type": "code",
   "execution_count": 22,
   "id": "a4ffa86c",
   "metadata": {},
   "outputs": [
    {
     "data": {
      "text/plain": [
       "3333"
      ]
     },
     "execution_count": 22,
     "metadata": {},
     "output_type": "execute_result"
    }
   ],
   "source": [
    "# Load the training data\n",
    "file = open(\"formatted_data.pkl\", \"rb\")\n",
    "X = pickle.load(file)\n",
    "file.close()\n",
    "list(X['expected']).count(1)"
   ]
  },
  {
   "cell_type": "code",
   "execution_count": null,
   "id": "a23c58f3",
   "metadata": {},
   "outputs": [],
   "source": []
  }
 ],
 "metadata": {
  "kernelspec": {
   "display_name": "Python 3 (ipykernel)",
   "language": "python",
   "name": "python3"
  },
  "language_info": {
   "codemirror_mode": {
    "name": "ipython",
    "version": 3
   },
   "file_extension": ".py",
   "mimetype": "text/x-python",
   "name": "python",
   "nbconvert_exporter": "python",
   "pygments_lexer": "ipython3",
   "version": "3.10.9"
  }
 },
 "nbformat": 4,
 "nbformat_minor": 5
}
