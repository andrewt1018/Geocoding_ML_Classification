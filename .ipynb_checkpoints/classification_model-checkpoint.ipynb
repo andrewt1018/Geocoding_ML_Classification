{
 "cells": [
  {
   "cell_type": "code",
   "execution_count": 1,
   "id": "d6e68070",
   "metadata": {},
   "outputs": [],
   "source": [
    "# Goal: To see whether the different parameters can be used in a predictive manner \n",
    "# - Take the 100,000 entries and separate them into training and test samples \n",
    "# - Use keras or something to build a Random forest classification model with:\n",
    "#     Parameters: calculation_method, address line ratio, geocoord distance, confidence, match codes\n",
    "#     Output: 0 or 1 (match or no match)"
   ]
  },
  {
   "cell_type": "code",
   "execution_count": 2,
   "id": "5fea757f",
   "metadata": {},
   "outputs": [],
   "source": [
    "# Necessary imports\n",
    "import pandas as pd\n",
    "import numpy as np\n",
    "import pickle\n",
    "\n",
    "from tqdm import notebook\n",
    "\n",
    "import sys\n",
    "PATH = r\"\"\"C:\\Users\\andrew.tan\\Jupyter Notebooks\\Geocoding_Validation\\\\\"\"\"\n",
    "sys.path.insert(0, PATH)\n",
    "\n",
    "from gc_val import GC_Val\n",
    "\n",
    "val = GC_Val(PATH + \"data.csv\", PATH + \"neighborhoods.pkl\")\n",
    "false_responses = []\n",
    "with open(PATH + \"false_responses.pkl\", \"rb\") as f:\n",
    "    false_responses = pickle.load(f)\n",
    "    f.close()"
   ]
  },
  {
   "cell_type": "code",
   "execution_count": 39,
   "id": "1bdb6cdf",
   "metadata": {},
   "outputs": [
    {
     "data": {
      "application/vnd.jupyter.widget-view+json": {
       "model_id": "6a183f447da1434ab4e6373d0da65c99",
       "version_major": 2,
       "version_minor": 0
      },
      "text/plain": [
       "  0%|          | 0/99993 [00:00<?, ?it/s]"
      ]
     },
     "metadata": {},
     "output_type": "display_data"
    }
   ],
   "source": [
    "# Retrieve the desired features from data\n",
    "X = pd.DataFrame(columns=['index', 'ratio', 'calculation_method', 'conf', 'match_codes', 'expected'])\n",
    "y = pd.DataFrame(columns=['validity'])\n",
    "\n",
    "for i in notebook.tqdm(range(len(val.df))):\n",
    "    # Ratio\n",
    "    try:\n",
    "        ratio = val.get_ratio(i)\n",
    "    except KeyError as e:\n",
    "        ratio = 0\n",
    "    \n",
    "    # Calculation_method\n",
    "    # ['Rooftop', 'InterpolationOffset', 'Interpolation'] = [0, 1, 2]\n",
    "    method = val.get_calculation_method(i)\n",
    "    if method == 'Rooftop': method = 0\n",
    "    elif method == 'InterpolationOffset': method = 1\n",
    "    elif method == 'Interpolation': method = 2\n",
    "    else: method = None\n",
    "    \n",
    "    # Coord dist\n",
    "#     dist = val.get_distance(val.get_addresses(i)[0], val.get_addresses(i)[1])\n",
    "    \n",
    "    # Confidence\n",
    "    # ['High', 'Medium', 'Low'] = [0, 1, 2]\n",
    "    conf = val.get_confidence(i)\n",
    "    if conf == 'High': conf = 0\n",
    "    elif conf == 'Medium': conf = 1\n",
    "    elif conf == 'Low': conf = 2\n",
    "    else: conf = None\n",
    "    \n",
    "    # Match_codes\n",
    "    # [['UpHierarchy'], ['Ambiguous', 'UpHierarchy'], ['Good'], ['Ambiguous']]= [0, 1, 2, 3]\n",
    "    code = str(val.get_match_codes(i))\n",
    "    if code == \"['UpHierarchy']\": code = 0\n",
    "    elif code == \"['Ambiguous', 'UpHierarchy']\": code = 1\n",
    "    elif code == \"['Good']\": code = 2\n",
    "    elif code == \"['Ambiguous']\": code = 3\n",
    "    else: code = None\n",
    "    \n",
    "    expected = -1\n",
    "    if i in false_responses:  # 0 for valid and 1 for false entries\n",
    "        expected = 1\n",
    "    else:\n",
    "        expected = 0\n",
    "        \n",
    "    insert = [i, ratio, method, conf, code, expected]\n",
    "    X.loc[i] = insert\n",
    "    \n",
    "    \n",
    "    "
   ]
  },
  {
   "cell_type": "code",
   "execution_count": null,
   "id": "138f1f7e",
   "metadata": {},
   "outputs": [],
   "source": [
    "# Add in the geocoord distance as a feature\n",
    "for i in range(len(df.val)):\n",
    "    given, resp = val.get_address(i)\n",
    "    dist = val.get_distance(given, resp)"
   ]
  },
  {
   "cell_type": "code",
   "execution_count": 25,
   "id": "df3a44b2",
   "metadata": {},
   "outputs": [],
   "source": [
    "# Save the training data into a pkl file\n",
    "file = open(\"formatted_data.pkl\", \"wb\")\n",
    "pickle.dump(X, file)\n",
    "file.close()"
   ]
  },
  {
   "cell_type": "code",
   "execution_count": 26,
   "id": "7c3b0f53",
   "metadata": {},
   "outputs": [
    {
     "data": {
      "text/html": [
       "<div>\n",
       "<style scoped>\n",
       "    .dataframe tbody tr th:only-of-type {\n",
       "        vertical-align: middle;\n",
       "    }\n",
       "\n",
       "    .dataframe tbody tr th {\n",
       "        vertical-align: top;\n",
       "    }\n",
       "\n",
       "    .dataframe thead th {\n",
       "        text-align: right;\n",
       "    }\n",
       "</style>\n",
       "<table border=\"1\" class=\"dataframe\">\n",
       "  <thead>\n",
       "    <tr style=\"text-align: right;\">\n",
       "      <th></th>\n",
       "      <th>index</th>\n",
       "      <th>ratio</th>\n",
       "      <th>calculation_method</th>\n",
       "      <th>conf</th>\n",
       "      <th>match_codes</th>\n",
       "      <th>pred</th>\n",
       "    </tr>\n",
       "  </thead>\n",
       "  <tbody>\n",
       "    <tr>\n",
       "      <th>0</th>\n",
       "      <td>0.0</td>\n",
       "      <td>1.000000</td>\n",
       "      <td>0.0</td>\n",
       "      <td>0.0</td>\n",
       "      <td>2.0</td>\n",
       "      <td>0</td>\n",
       "    </tr>\n",
       "    <tr>\n",
       "      <th>1</th>\n",
       "      <td>1.0</td>\n",
       "      <td>0.960000</td>\n",
       "      <td>0.0</td>\n",
       "      <td>0.0</td>\n",
       "      <td>2.0</td>\n",
       "      <td>0</td>\n",
       "    </tr>\n",
       "    <tr>\n",
       "      <th>2</th>\n",
       "      <td>2.0</td>\n",
       "      <td>0.933333</td>\n",
       "      <td>0.0</td>\n",
       "      <td>0.0</td>\n",
       "      <td>2.0</td>\n",
       "      <td>0</td>\n",
       "    </tr>\n",
       "    <tr>\n",
       "      <th>3</th>\n",
       "      <td>3.0</td>\n",
       "      <td>0.956522</td>\n",
       "      <td>0.0</td>\n",
       "      <td>0.0</td>\n",
       "      <td>2.0</td>\n",
       "      <td>0</td>\n",
       "    </tr>\n",
       "    <tr>\n",
       "      <th>4</th>\n",
       "      <td>4.0</td>\n",
       "      <td>1.000000</td>\n",
       "      <td>0.0</td>\n",
       "      <td>0.0</td>\n",
       "      <td>2.0</td>\n",
       "      <td>0</td>\n",
       "    </tr>\n",
       "  </tbody>\n",
       "</table>\n",
       "</div>"
      ],
      "text/plain": [
       "   index     ratio  calculation_method  conf  match_codes  pred\n",
       "0    0.0  1.000000                 0.0   0.0          2.0     0\n",
       "1    1.0  0.960000                 0.0   0.0          2.0     0\n",
       "2    2.0  0.933333                 0.0   0.0          2.0     0\n",
       "3    3.0  0.956522                 0.0   0.0          2.0     0\n",
       "4    4.0  1.000000                 0.0   0.0          2.0     0"
      ]
     },
     "execution_count": 26,
     "metadata": {},
     "output_type": "execute_result"
    }
   ],
   "source": [
    "# Load the training data\n",
    "file = open(\"formatted_data.pkl\", \"rb\")\n",
    "X = pickle.load(file)\n",
    "file.close()\n",
    "X.head()"
   ]
  },
  {
   "cell_type": "code",
   "execution_count": null,
   "id": "c7e08e83",
   "metadata": {},
   "outputs": [],
   "source": []
  }
 ],
 "metadata": {
  "kernelspec": {
   "display_name": "Python 3 (ipykernel)",
   "language": "python",
   "name": "python3"
  },
  "language_info": {
   "codemirror_mode": {
    "name": "ipython",
    "version": 3
   },
   "file_extension": ".py",
   "mimetype": "text/x-python",
   "name": "python",
   "nbconvert_exporter": "python",
   "pygments_lexer": "ipython3",
   "version": "3.10.9"
  }
 },
 "nbformat": 4,
 "nbformat_minor": 5
}
